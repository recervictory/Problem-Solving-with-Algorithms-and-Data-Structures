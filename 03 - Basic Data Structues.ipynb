{
  "cells": [
    {
      "cell_type": "markdown",
      "metadata": {
        "colab_type": "text",
        "id": "view-in-github"
      },
      "source": [
        "# CHAPTER THREE : BASIC DATA STRUCTURES"
      ]
    },
    {
      "cell_type": "markdown",
      "metadata": {},
      "source": [
        "## 3.1 Objectives\n",
        "- To understand the **abstract data types** `stack`, `queue`, `deque`, and `list`.\n",
        "- To be able to **implement** the ADTs stack, queue, and deque using Python lists.\n",
        "- To understand the performance of the implementations of **basic linear data structures**.\n",
        "- To understand **prefix**, **infix**, and **postfix** expression formats.\n",
        "- To use stacks to evaluate postfix expressions.\n",
        "- To use stacks to convert expressions from infix to postfix.\n",
        "- To use queues for basic timing simulations.\n",
        "- To be able to **recognize problem properties** where stacks, queues, and deques are appropriate data structures.\n",
        "- To be able to implement the abstract data type list as a linked list using the node and reference pattern.\n",
        "- To be able to compare the performance of our linked list implementation with Python’s list implementation."
      ]
    },
    {
      "cell_type": "markdown",
      "metadata": {},
      "source": [
        "## 3.2 What Are Linear Structures?\n",
        "We will begin our study of data structures by considering four simple but very powerful concepts. `Stacks`, `queues`, `deques`, and `lists` are examples of data collections whose items are ordered depending on how they are added or removed. Once an item is added, it stays in that position relative to the other elements that came before and came after it. Collections such as these are often referred to as `linear data structures`.\n",
        "\n",
        "`Linear structures` can be thought of as having `two ends`. Sometimes these ends are referred to as\n",
        "the “`left`” and the “`right`” or in some cases the “`front`” and the “`rear`.” You could also call them\n",
        "the “`top`” and the “`bottom`.” The names given to the ends are not significant. What distinguishes\n",
        "one linear structure from another is the way in which items are added and removed, in particular\n",
        "the location where these additions and removals occur. For example, a structure might allow new items to be added at only one end. Some structures might allow items to be removed from\n",
        "either end.\n",
        "\n",
        "These variations give rise to some of the most useful data structures in computer science. They\n",
        "appear in many algorithms and can be used to solve a variety of important p\n"
      ]
    },
    {
      "cell_type": "markdown",
      "metadata": {},
      "source": [
        "## 3.3 Stacks"
      ]
    },
    {
      "cell_type": "markdown",
      "metadata": {},
      "source": [
        "### 3.3.1 What is a Stack?\n",
        "\n",
        "A `stack` (sometimes called a “`push-down stack`”) is an ordered collection of items where the\n",
        "addition of new items and the removal of existing items always takes place at the **same end**.\n",
        "This end is commonly referred to as the “**top**.” The end opposite the top is known as the “**base**.”\n",
        "The base of the stack is significant since items stored in the stack that are closer to the base\n",
        "represent those that have been in the stack the longest. The most recently added item is the\n",
        "one that is in position to be removed first. This ordering principle is sometimes called `LIFO`,\n",
        "**`last-in first-out`**. It provides an ordering based on length of time in the collection. **Newer items are near the top, while older items are near the base.**\n",
        "\n",
        "Many examples of stacks occur in everyday situations. Almost any cafeteria has a stack of trays\n",
        "or plates where you take the one at the top, uncovering a new tray or plate for the next customer\n",
        "in line. Imagine a stack of books on a desk (Figure 3.1). The only book whose cover is visible\n",
        "is the one on top. To access others in the stack, we need to remove the ones that are sitting on\n",
        "top of them. Figure 3.2 shows another stack. This one contains a number of primitive Python\n",
        "data objects.\n",
        "\n",
        "One of the most useful ideas related to stacks comes from the simple observation of items as\n",
        "they are added and then removed. Assume you start out with a clean desktop. Now place books\n",
        "one at a time on top of each other. You are constructing a stack. Consider what happens when\n",
        "you begin removing books. The order that they are removed is exactly the reverse of the order\n",
        "that they were placed. Stacks are fundamentally important, as they can be used to reverse the\n",
        "order of items. The order of insertion is the reverse of the order of removal. Figure 3.3 shows\n",
        "the Python data object stack as it was created and then again as items are removed. Note the\n",
        "order of the objects.\n",
        "\n",
        "Considering this reversal property, you can perhaps think of examples of stacks that occur as\n",
        "you use your computer. For example, every web browser has a Back button. As you navigate\n",
        "from web page to web page, those pages are placed on a stack (actually it is the URLs that are\n",
        "going on the stack). The current page that you are viewing is on the top and the first page you\n",
        "looked at is at the base. If you click on the Back button, you begin to move in reverse order\n",
        "through the pages.\n"
      ]
    },
    {
      "cell_type": "markdown",
      "metadata": {},
      "source": [
        "### 3.4 The Stack Abstract Data Type\n",
        "The stack abstract data type is defined by the following structure and operations. A stack is\n",
        "structured, as described above, as an ordered collection of items where items are added to and\n",
        "removed from the end called the “top.” Stacks are ordered LIFO. The stack operations are given\n",
        "below.\n",
        "\n",
        "- `Stack()` creates a new stack that is empty. It needs no parameters and returns an empty stack.\n",
        "- ` push(item)` adds a new item to the top of the stack. It needs the item and returns nothing.\n",
        "- `pop()` removes the top item from the stack. It needs no parameters and returns the item. The stack is modified.\n",
        "- `peek()` returns the top item from the stack but does not remove it. It needs no parameters. The stack is not modified.\n",
        "- `is_empty()` tests to see whether the stack is empty. It needs no parameters and returns a boolean value.\n",
        "- `size()` returns the number of items on the stack. It needs no parameters and returns an\n",
        "integer."
      ]
    },
    {
      "cell_type": "markdown",
      "metadata": {},
      "source": [
        "### 3.4.1 Implementing A Stack in Python\n",
        "\n",
        "Now that we have clearly defined the stack as an `abstract data type` we will turn our attention to\n",
        "using Python to implement the stack. Recall that when we give an abstract data type a physical\n",
        "implementation we refer to the implementation as a data structure.\n",
        "\n",
        "As we described in Chapter 1, in Python, as in any `object-oriented programming language`,\n",
        "the implementation of choice for an abstract data type such as a stack is the creation of a **new class**. The stack operations are implemented as` methods`. Further, to implement a stack, which\n",
        "is a collection of elements, it makes sense to utilize the power and simplicity of the primitive\n",
        "collections provided by Python. We will use a list.\n",
        "\n",
        "Recall that the list class in Python provides an ordered collection mechanism and a set of\n",
        "methods. For example, if we have the list `[2, 5, 3, 6, 7, 4]`, we need only to decide which end of\n",
        "the list will be considered the top of the stack and which will be the base. Once that decision is\n",
        "made, the operations can be implemented using the list methods such as `append` and `pop`.\n",
        "\n",
        "The following stack implementation assumes that the **end of the list** will hold the **top element of the stack**. As the stack grows (as push operations occur), new items will be added on the end of the list. pop operations will manipulate that same end."
      ]
    },
    {
      "cell_type": "code",
      "execution_count": null,
      "metadata": {},
      "outputs": [],
      "source": [
        "# Complete implementa\n",
        "# Complete implementation of the Stack Abstarct data structure\n",
        "class Stack:\n",
        "    def __init__(self):\n",
        "        self.items = []\n",
        "        self.size = len(self.items)\n",
        "\n",
        "    def is_empty(self):\n",
        "        return len(self.items) == 0\n",
        "\n",
        "    def push(self, item):\n",
        "        self.items.append(item)\n",
        "\n",
        "    def pop(self):\n",
        "        return self.items.pop()\n",
        "\n",
        "    def peek(self):\n",
        "        return self.items[self.size - 1]"
      ]
    },
    {
      "cell_type": "code",
      "execution_count": 11,
      "metadata": {},
      "outputs": [
        {
          "name": "stdout",
          "output_type": "stream",
          "text": [
            "True\n",
            "dog\n",
            "0\n",
            "False\n",
            "8.4\n",
            "True\n",
            "0\n"
          ]
        }
      ],
      "source": [
        "from adt import Stack\n",
        "\n",
        "stack = Stack()\n",
        "print(stack.is_empty())\n",
        "\n",
        "stack.push('dog')\n",
        "print(stack.peek())\n",
        "stack.push(True)\n",
        "print(stack.size)\n",
        "print(stack.is_empty())\n",
        "stack.push(8.4)\n",
        "print(stack.pop())\n",
        "print(stack.pop())\n",
        "print(stack.size)"
      ]
    },
    {
      "cell_type": "markdown",
      "metadata": {},
      "source": [
        "It is important to note that we could have chosen to implement the stack using a list where\n",
        "the top is at the `beginning instead of at the end`. In this case, the previous pop and append\n",
        "methods would no longer work and we would have to index position 0 (the first item in the\n",
        "list) explicitly using pop and insert. The implementation is shown below."
      ]
    },
    {
      "cell_type": "code",
      "execution_count": 13,
      "metadata": {},
      "outputs": [],
      "source": [
        "class Stack:\n",
        "    def __init__(self):\n",
        "        self.items = []\n",
        "    def is_empty(self):\n",
        "        return self.items == []\n",
        "    def push(self, item):\n",
        "        self.items.insert(0, item)\n",
        "    def pop(self):\n",
        "        return self.items.pop(0)\n",
        "    def peek(self):\n",
        "        return self.items[0]    \n",
        "    def size(self):\n",
        "        return len(self.items)"
      ]
    },
    {
      "cell_type": "code",
      "execution_count": 14,
      "metadata": {},
      "outputs": [
        {
          "name": "stdout",
          "output_type": "stream",
          "text": [
            "true\n"
          ]
        }
      ],
      "source": [
        "s = Stack()\n",
        "s.push('hello')\n",
        "s.push('true')\n",
        "print(s.pop())"
      ]
    },
    {
      "cell_type": "markdown",
      "metadata": {},
      "source": [
        "This ability to change the physical implementation of an abstract data type while maintaining\n",
        "the logical characteristics is an example of abstraction at work. However, even though the\n",
        "stack will work either way, if we consider the `performance of the two implementations`, there\n",
        "is definitely a difference. Recall that the append and pop() operations were both **`𝑂(1)`**. This\n",
        "means that the first implementation will perform push and pop in constant time no matter how\n",
        "many items are on the stack. The performance of the second implementation suffers in that\n",
        "the insert(0) and pop(0) operations will both require **`𝑂(𝑛)`** for a stack of size 𝑛. Clearly, even\n",
        "though the implementations are logically equivalent, they would have very different timings\n",
        "when performing benchmark testing."
      ]
    },
    {
      "cell_type": "markdown",
      "metadata": {},
      "source": [
        "### 3.4.2 Self Check\n",
        "`Given the following sequence of stack operations, what is the top item on the stack when the sequence is complete?`"
      ]
    },
    {
      "cell_type": "code",
      "execution_count": 15,
      "metadata": {},
      "outputs": [
        {
          "data": {
            "text/plain": [
              "'z'"
            ]
          },
          "execution_count": 15,
          "metadata": {},
          "output_type": "execute_result"
        }
      ],
      "source": [
        "from adt import Stack\n",
        "m = Stack()\n",
        "m.push('x')\n",
        "m.push('y')\n",
        "m.pop()\n",
        "m.push('z')\n",
        "m.peek()"
      ]
    },
    {
      "cell_type": "markdown",
      "metadata": {},
      "source": [
        "`Given the following sequence of stack operations, what is the top item on the stack when the sequence is complete?`"
      ]
    },
    {
      "cell_type": "code",
      "execution_count": 17,
      "metadata": {},
      "outputs": [
        {
          "ename": "IndexError",
          "evalue": "pop from empty list",
          "output_type": "error",
          "traceback": [
            "\u001b[1;31m---------------------------------------------------------------------------\u001b[0m",
            "\u001b[1;31mIndexError\u001b[0m                                Traceback (most recent call last)",
            "\u001b[1;32m~\\AppData\\Local\\Temp/ipykernel_10996/1849058220.py\u001b[0m in \u001b[0;36m<module>\u001b[1;34m\u001b[0m\n\u001b[0;32m      5\u001b[0m \u001b[1;32mwhile\u001b[0m \u001b[1;32mnot\u001b[0m \u001b[0mm\u001b[0m\u001b[1;33m.\u001b[0m\u001b[0mis_empty\u001b[0m\u001b[1;33m(\u001b[0m\u001b[1;33m)\u001b[0m\u001b[1;33m:\u001b[0m\u001b[1;33m\u001b[0m\u001b[1;33m\u001b[0m\u001b[0m\n\u001b[0;32m      6\u001b[0m     \u001b[0mm\u001b[0m\u001b[1;33m.\u001b[0m\u001b[0mpop\u001b[0m\u001b[1;33m(\u001b[0m\u001b[1;33m)\u001b[0m\u001b[1;33m\u001b[0m\u001b[1;33m\u001b[0m\u001b[0m\n\u001b[1;32m----> 7\u001b[1;33m     \u001b[0mm\u001b[0m\u001b[1;33m.\u001b[0m\u001b[0mpop\u001b[0m\u001b[1;33m(\u001b[0m\u001b[1;33m)\u001b[0m\u001b[1;33m\u001b[0m\u001b[1;33m\u001b[0m\u001b[0m\n\u001b[0m",
            "\u001b[1;32mc:\\Github\\Problem-Solving-with-Algorithms-and-Data-Structures\\adt.py\u001b[0m in \u001b[0;36mpop\u001b[1;34m(self)\u001b[0m\n\u001b[0;32m     12\u001b[0m \u001b[1;33m\u001b[0m\u001b[0m\n\u001b[0;32m     13\u001b[0m     \u001b[1;32mdef\u001b[0m \u001b[0mpop\u001b[0m\u001b[1;33m(\u001b[0m\u001b[0mself\u001b[0m\u001b[1;33m)\u001b[0m\u001b[1;33m:\u001b[0m\u001b[1;33m\u001b[0m\u001b[1;33m\u001b[0m\u001b[0m\n\u001b[1;32m---> 14\u001b[1;33m         \u001b[1;32mreturn\u001b[0m \u001b[0mself\u001b[0m\u001b[1;33m.\u001b[0m\u001b[0mitems\u001b[0m\u001b[1;33m.\u001b[0m\u001b[0mpop\u001b[0m\u001b[1;33m(\u001b[0m\u001b[1;33m)\u001b[0m\u001b[1;33m\u001b[0m\u001b[1;33m\u001b[0m\u001b[0m\n\u001b[0m\u001b[0;32m     15\u001b[0m \u001b[1;33m\u001b[0m\u001b[0m\n\u001b[0;32m     16\u001b[0m     \u001b[1;32mdef\u001b[0m \u001b[0mpeek\u001b[0m\u001b[1;33m(\u001b[0m\u001b[0mself\u001b[0m\u001b[1;33m)\u001b[0m\u001b[1;33m:\u001b[0m\u001b[1;33m\u001b[0m\u001b[1;33m\u001b[0m\u001b[0m\n",
            "\u001b[1;31mIndexError\u001b[0m: pop from empty list"
          ]
        }
      ],
      "source": [
        "m = Stack()\n",
        "m.push('x')\n",
        "m.push('y')\n",
        "m.push('z')\n",
        "while not m.is_empty():\n",
        "    m.pop()\n",
        "    m.pop()"
      ]
    },
    {
      "cell_type": "markdown",
      "metadata": {},
      "source": [
        "### 3.4.3 Simple Balance Parentheses\n",
        "We now turn our attention to using stacks to solve real computer science problems. You have\n",
        "no doubt written arithmetic expressions such as\n",
        "`(5 + 6) * (7 + 8)/(4 + 3)`\n",
        "where parentheses are used to order the performance of operations. You may also have some\n",
        "experience programming in a language such as Lisp with constructs like\n",
        "\n",
        "This defines a function called square that will return the square of its argument 𝑛. Lisp is\n",
        "notorious for using lots and lots of parentheses.\n",
        "\n",
        "In both of these examples, parentheses must appear in a balanced fashion. Balanced parentheses means that each opening symbol has a corresponding closing symbol and the pairs of parentheses are properly nested. \n",
        "#### Consider the following correctly balanced strings of parentheses:\n",
        "\n",
        "(()()()())\n",
        "(((())))\n",
        "(()((())()))\n",
        "\n",
        "#### Compare those with the following, which are not balanced:\n",
        "\n",
        "((((((())\n",
        "()))\n",
        "(()()(()\n",
        "\n",
        "\n",
        "The ability to differentiate between parentheses that are correctly balanced and those that are\n",
        "unbalanced is an important part of recognizing many programming language structures. The challenge then is to write an algorithm that will read a string of parentheses from left to\n",
        "right and decide whether the symbols are balanced. To solve this problem we need to make\n",
        "an important observation. As you process symbols from left to right, the most recent opening\n",
        "parenthesis must match the next closing symbol (see Figure 3.4). Also, the first opening symbol\n",
        "processed may have to wait until the very last symbol for its match. Closing symbols match\n",
        "opening symbols in the reverse order of their appearance; they match from the inside out. This\n",
        "is a clue that stacks can be used to solve the problem.\n",
        "\n",
        "Once you agree that a stack is the appropriate data structure for keeping the parentheses,\n",
        "the statement of the algorithm is straightforward. Starting with an empty stack, process the\n",
        "parenthesis strings from left to right. If a symbol is an opening parenthesis, push it on the\n",
        "stack as a signal that a corresponding closing symbol needs to appear later. If, on the other\n",
        "hand, a symbol is a closing parenthesis, pop the stack. As long as it is possible to pop the\n",
        "stack to match every closing symbol, the parentheses remain balanced. If at any time there is\n",
        "no opening symbol on the stack to match a closing symbol, the string is not balanced properly. At the end of the string, when all symbols have been processed, the stack should be empty.\n"
      ]
    },
    {
      "cell_type": "code",
      "execution_count": 20,
      "metadata": {},
      "outputs": [],
      "source": [
        "from adt import Stack\n",
        "\n",
        "def par_checker(symbol_string):\n",
        "    s = Stack()\n",
        "    balanced = True\n",
        "    index = 0\n",
        "    while index < len(symbol_string) and balanced:\n",
        "        symbol = symbol_string[index]\n",
        "        if symbol == '(':\n",
        "            s.push(symbol)\n",
        "        else:\n",
        "            if s.is_empty() :\n",
        "                balanced = False\n",
        "            else:\n",
        "                s.pop()\n",
        "        index += 1\n",
        "    \n",
        "    if balanced and s.is_empty() :\n",
        "        return True\n",
        "    else :\n",
        "        return False"
      ]
    },
    {
      "cell_type": "code",
      "execution_count": 21,
      "metadata": {},
      "outputs": [
        {
          "name": "stdout",
          "output_type": "stream",
          "text": [
            "True\n",
            "False\n"
          ]
        }
      ],
      "source": [
        "print(par_checker('((()))'))\n",
        "print(par_checker('(()'))"
      ]
    },
    {
      "cell_type": "markdown",
      "metadata": {},
      "source": [
        "### 3.4.4 Balanced Symbols (A General Case)\n",
        "The balanced parentheses problem shown above is a specific case of a more general situation\n",
        "that arises in many programming languages. The general problem of balancing and nesting\n",
        "different kinds of opening and closing symbols occurs frequently. For example, in Python\n",
        "square brackets, [ and ], are used for lists; curly braces, { and }, are used for dictionaries;\n",
        "and parentheses, ( and ), are used for tuples and arithmetic expressions. It is possible to mix\n",
        "symbols as long as each maintains its own open and close relationship. Strings of symbols\n",
        "such as\n",
        "```\n",
        "{ { ( [ ] [ ] ) } ( ) }\n",
        "[ [ { { ( ( ) ) } } ] ]\n",
        "[ ] [ ] [ ] ( ) { }\n",
        "```\n",
        "are properly balanced in that not only does each opening symbol have a corresponding closing\n",
        "symbol, but the types of symbols match as well.\n",
        "Compare those with the following strings that are not balanced:\n",
        "```\n",
        "( [ ) ]\n",
        "( ( ( ) ] ) )\n",
        "[ { ( ) ]\n",
        "```\n",
        "\n",
        "The simple parentheses checker from the previous section can easily be extended to handle\n",
        "these new types of symbols. Recall that each opening symbol is simply pushed on the stack to\n",
        "wait for the matching closing symbol to appear later in the sequence. When a closing symbol\n",
        "does appear, the only difference is that we must check to be sure that it correctly matches the\n",
        "type of the opening symbol on top of the stack. If the two symbols do not match, the string is\n",
        "not balanced. Once again, if the entire string is processed and nothing is left on the stack, the\n",
        "string is correctly balanced.\n",
        "\n",
        "\n",
        "The Python program to implement this is shown below The only change appears in line 16\n",
        "where we call a helper function, matches, to assist with symbol-matching. Each symbol that is\n",
        "removed from the stack must be checked to see that it matches the current closing symbol. If a\n",
        "mismatch occurs, the boolean variable balanced is set to False."
      ]
    },
    {
      "cell_type": "code",
      "execution_count": 3,
      "metadata": {},
      "outputs": [
        {
          "name": "stdout",
          "output_type": "stream",
          "text": [
            "True\n",
            "False\n"
          ]
        }
      ],
      "source": [
        "from adt import Stack\n",
        "\n",
        "def matches(open,close):\n",
        "    opens = '({['\n",
        "    closes = ')}]'\n",
        "    return opens.index(open) == closes.index(close)\n",
        "\n",
        "def par_checker(symbol_string):\n",
        "    s = Stack()\n",
        "    balanced = True\n",
        "    index = 0\n",
        "    while index < len(symbol_string) and balanced:\n",
        "        symbol = symbol_string[index]\n",
        "        if symbol in '({[':\n",
        "            s.push(symbol)\n",
        "        else:\n",
        "            if s.is_empty():\n",
        "                balanced = False\n",
        "            else:\n",
        "                top = s.pop()\n",
        "                if not matches(top,symbol):\n",
        "                    balanced = False\n",
        "        index += 1\n",
        "    \n",
        "    if balanced and s.is_empty():\n",
        "        return True\n",
        "    else:\n",
        "        return False\n",
        "    \n",
        "print(par_checker('{{([][])}()}'))\n",
        "print(par_checker('[{()]'))"
      ]
    },
    {
      "cell_type": "markdown",
      "metadata": {},
      "source": [
        "### 3.4.5 Converting Decimal Numbers to Binary Numbers\n",
        "In your study of computer science, you have probably been exposed in one way or another to\n",
        "the idea of a binary number. Binary representation is important in computer science since all\n",
        "values stored within a computer exist as a string of binary digits, a string of 0s and 1s. Without\n",
        "the ability to convert back and forth between common representations and binary numbers, we\n",
        "would need to interact with computers in very awkward ways.\n",
        "\n",
        "Integer values are common data items. They are used in computer programs and computation\n",
        "all the time. We learn about them in math class and of course represent them using the decimal\n",
        "number system, or base 10. The decimal number 23310 and its corresponding binary equivalent\n",
        "111010012 are interpreted respectively as \n",
        "\n",
        "`2 * 102 + 3 * 101 + 3 * 100 and 1 * 27 + 1 * 26 + 1 * 25 + 0 * 24 + 1 * 23 + 0 * 22 + 0 * 21 + 1 * 20`\n",
        "\n",
        "But how can we easily convert integer values into binary numbers? The answer is an algorithm\n",
        "called “Divide by 2” that uses a stack to keep track of the digits for the binary result.\n",
        "\n",
        "The Divide by 2 algorithm assumes that we start with an integer greater than 0. A simple\n",
        "iteration then continually divides the decimal number by 2 and keeps track of the remainder.\n",
        "The first division by 2 gives information as to whether the value is even or odd. An even value\n",
        "will have a remainder of 0. It will have the digit 0 in the ones place. An odd value will have a\n",
        "remainder of 1 and will have the digit 1 in the ones place. We think about building our binary\n",
        "number as a sequence of digits; the first remainder we compute will actually be the last digit\n",
        "in the sequence. As shown in Figure 3.5, we again see the reversal property that signals that a\n",
        "stack is likely to be the appropriate data structure for solving the problem.\n",
        "\n",
        "The Python code in below implements the Divide by 2 algorithm. The function divide_by_2\n",
        "takes an argument that is a decimal number and repeatedly divides it by 2. Line 7 uses the\n",
        "built-in modulo operator, %, to extract the remainder and line 8 then pushes it on the stack.\n",
        "After the division process reaches 0, a binary string is constructed in lines 11–13. Line 11 creates an empty string. The binary digits are popped from the stack one at a time and\n",
        "appended to the right-hand end of the string. The binary string is then returned."
      ]
    },
    {
      "cell_type": "code",
      "execution_count": 7,
      "metadata": {},
      "outputs": [
        {
          "data": {
            "text/plain": [
              "100000000"
            ]
          },
          "execution_count": 7,
          "metadata": {},
          "output_type": "execute_result"
        }
      ],
      "source": [
        "from adt import Stack\n",
        "\n",
        "def divide_by_2(decimal_number):\n",
        "    remainder_stack = Stack()\n",
        "    \n",
        "    while decimal_number > 0:\n",
        "        rem = decimal_number % 2\n",
        "        remainder_stack.push(rem)\n",
        "        decimal_number = decimal_number // 2\n",
        "        \n",
        "    binary_string = \"\"\n",
        "    while not remainder_stack.is_empty():\n",
        "        binary_string = binary_string + str(remainder_stack.pop())\n",
        "    \n",
        "    return int(binary_string)\n",
        "\n",
        "divide_by_2(256)"
      ]
    },
    {
      "cell_type": "markdown",
      "metadata": {},
      "source": [
        "The algorithm for binary conversion can easily be extended to perform the conversion for any\n",
        "base. In computer science it is common to use a number of different encodings. The most\n",
        "common of these are binary, octal (base 8), and hexadecimal (base 16).\n",
        "\n",
        "The decimal number 233 and its corresponding octal and hexadecimal equivalents 3518 and\n",
        "𝐸916 are interpreted as 3 * 82 + 5 * 81 + 1 * 80 and 14 * 161 + 9 * 160\n",
        "\n",
        "The function divide_by_2 can be modified to accept not only a decimal value but also a\n",
        "base for the intended conversion. The “Divide by 2” idea is simply replaced with a more\n",
        "general “Divide by base.” A new function called base_converter, shown below, takes a\n",
        "decimal number and any base between 2 and 16 as parameters. The remainders are still\n",
        "pushed onto the stack until the value being converted becomes 0. The same left-to-right\n",
        "string construction technique can be used with one slight change. Base 2 through base 10\n",
        "mbers need a maximum of 10 digits, so the typical digit characters 0, 1, 2, 3, 4, 5, 6, 7,\n",
        "8, and 9 work fine. The problem comes when we go beyond base 10. We can no longer\n",
        "simply use the remainders, as they are themselves represented as two-digit decimal numbers.\n",
        "Instead we need to create a set of digits that can be used to represent those remainders beyond 9"
      ]
    },
    {
      "cell_type": "code",
      "execution_count": 12,
      "metadata": {},
      "outputs": [
        {
          "name": "stdout",
          "output_type": "stream",
          "text": [
            "100000000\n",
            "100\n"
          ]
        }
      ],
      "source": [
        "from adt import Stack\n",
        "\n",
        "def base_converter(decimal_number,base):\n",
        "    digits = '0123456789ABCDEF'\n",
        "    \n",
        "    rem_stack = Stack()\n",
        "    \n",
        "    while decimal_number > 0:\n",
        "        rem = decimal_number % base\n",
        "        rem_stack.push(rem)\n",
        "        decimal_number = decimal_number // base\n",
        "    \n",
        "    new_string = \"\"\n",
        "    while not rem_stack.is_empty():\n",
        "        new_string = new_string + digits[rem_stack.pop()]\n",
        "        \n",
        "    return new_string\n",
        "\n",
        "print(base_converter(256, 2)) # Binary\n",
        "print(base_converter(256, 16)) # Hexadecimal"
      ]
    },
    {
      "cell_type": "markdown",
      "metadata": {},
      "source": [
        "A solution to this problem is to extend the digit set to include some alphabet characters. For\n",
        "example, hexadecimal uses the ten decimal digits along with the first six alphabet characters\n",
        "for the 16 digits. To implement this, a digit string is created that stores the digits in their\n",
        "corresponding positions. 0 is at position 0, 1 is at position 1, A is at position 10, B is at position\n",
        "11, and so on. When a remainder is removed from the stack, it can be used to index into the\n",
        "digit string and the correct resulting digit can be appended to the answer. For example, if the\n",
        "remainder 13 is removed from the stack, the digit D is appended to the resulting string."
      ]
    },
    {
      "cell_type": "markdown",
      "metadata": {},
      "source": [
        "These two examples show that stacks are very important data structures for the processing\n",
        "of language constructs in computer science. Almost any notation you can think of has some\n",
        "type of nested symbol that must be matched in a balanced order. There are a number of other\n",
        "important uses for stacks in computer science. We will continue to explore them in the next\n",
        "sections."
      ]
    },
    {
      "cell_type": "markdown",
      "metadata": {},
      "source": [
        "## 3.6 Deques\n",
        "\n",
        "We will conclude this introduction to basic data structures by looking at another variation on the\n",
        "theme of linear collections. However, unlike stack and queue, the deque (pronounced “deck”)\n",
        "has very few restrictions. Also, be careful that you do not confuse the spelling of “deque” with\n",
        "the queue removal operation “dequeue.”"
      ]
    },
    {
      "cell_type": "markdown",
      "metadata": {},
      "source": [
        "### 3.6.1 What is a Deques?\n",
        "A deque, also known as a double-ended queue, is an ordered collection of items similar to the\n",
        "queue. It has two ends, a front and a rear, and the items remain positioned in the collection.\n",
        "What makes a deque different is the unrestrictive nature of adding and removing items. New\n",
        "items can be added at either the front or the rear. Likewise, existing items can be removed from\n",
        "either end. In a sense, this hybrid linear structure provides all the capabilities of stacks and\n",
        "queues in a single data structure. Figure 3.16 shows a deque of Python data objects.\n",
        "\n",
        "It is important to note that even though the deque can assume many of the characteristics of\n",
        "stacks and queues, it does not require the LIFO and FIFO orderings that are enforced by those\n",
        "data structures. It is up to you to make consistent use of the addition and removal operations.\n"
      ]
    },
    {
      "cell_type": "markdown",
      "metadata": {},
      "source": [
        "### 3.6.2 The Deque Abstract Data Type\n",
        "\n",
        "The deque abstract data type is defined by the following structure and operations. A deque is\n",
        "structured, as described above, as an ordered collection of items where items are added and\n",
        "removed from either end, either front or rear. The deque operations are given below.\n",
        "\n",
        "- `Deque()` creates a new deque that is empty. It needs no parameters and returns an empty\n",
        "deque.\n",
        "- `add_front(item)` adds a new item to the front of the deque. It needs the item and returns\n",
        "nothing.\n",
        "- `add_rear(item)` adds a new item to the rear of the deque. It needs the item and returns\n",
        "nothing.\n",
        "- `remove_front()` removes the front item from the deque. It needs no parameters and returns\n",
        "the item. The deque is modified.\n",
        "- `remove_rear()` removes the rear item from the deque. It needs no parameters and returns\n",
        "the item. The deque is modified.\n",
        "- `is_empty()` tests to see whether the deque is empty. It needs no parameters and returns a\n",
        "boolean value.\n",
        "- `size()` returns the number of items in the deque. It needs no parameters and returns an\n",
        "integer.\n",
        "\n",
        "\n",
        "As an example, if we assume that d is a deque that has been created and is currently empty,\n",
        "then Table 3.6 shows the results of a sequence of deque operations. Note that the contents in\n",
        "front are listed on the right. It is very important to keep track of the front and the rear as you\n",
        "move items in and out of the collection as things can get a bit confusing."
      ]
    },
    {
      "cell_type": "markdown",
      "metadata": {},
      "source": [
        "### 3.6.3 Implementing a Deque in Python\n",
        "\n",
        "As we have done in previous sections, we will create a new class for the implementation of the\n",
        "abstract data type deque. Again, the Python list will provide a very nice set of methods upon\n",
        "which to build the details of the deque. Our implementation will assume that the rear of the\n",
        "deque is at position 0 in the list."
      ]
    },
    {
      "cell_type": "code",
      "execution_count": 1,
      "metadata": {},
      "outputs": [],
      "source": [
        "# Completed implementation of a deque ADT\n",
        "\n",
        "class Deque:\n",
        "    def __init__(self):\n",
        "        self.items = []\n",
        "    \n",
        "    def is_empty(self):\n",
        "        return self.items == []\n",
        "    \n",
        "    def add_front(self,item):\n",
        "        self.items.append(item)\n",
        "    \n",
        "    def add_rear(self,item):\n",
        "        self.items.insert(0,item)\n",
        "    \n",
        "    def remove_front(self):\n",
        "        return self.items.pop()\n",
        "\n",
        "    def remove_rear(self):\n",
        "        return self.items.pop(0)\n",
        "    \n",
        "    def size(self):\n",
        "        return len(self.items)\n",
        "\n",
        "    def show(self):\n",
        "        return self.items"
      ]
    },
    {
      "cell_type": "code",
      "execution_count": 5,
      "metadata": {},
      "outputs": [
        {
          "name": "stdout",
          "output_type": "stream",
          "text": [
            "True\n",
            "4\n",
            "False\n"
          ]
        },
        {
          "data": {
            "text/plain": [
              "['dog', 4, 'cat']"
            ]
          },
          "execution_count": 5,
          "metadata": {},
          "output_type": "execute_result"
        }
      ],
      "source": [
        "from adt import Deque\n",
        "\n",
        "d = Deque()\n",
        "\n",
        "print(d.is_empty()) # True\n",
        "d.add_rear(4)\n",
        "d.add_rear('dog')\n",
        "d.add_front('cat')\n",
        "d.show()\n",
        "\n",
        "d.add_front(True)\n",
        "print(d.size())\n",
        "print(d.is_empty())\n",
        "d.add_rear(8.4)\n",
        "d.remove_rear()\n",
        "d.remove_front()\n",
        "d.show()"
      ]
    },
    {
      "cell_type": "markdown",
      "metadata": {
        "id": "6U3j62mHBzoM"
      },
      "source": [
        "## 3.7 Lists\n",
        "\n",
        "\n",
        "Throughout the discussion of basic data structures, we have used Python lists to implement\n",
        "the abstract data types presented. The list is a powerful, yet simple, collection mechanism that\n",
        "provides the programmer with a wide variety of operations. However, not all programming\n",
        "languages include a list collection. In these cases, the notion of a list must be implemented by\n",
        "the programmer.\n",
        "\n",
        "\n",
        "A list is a collection of items where each item holds a relative position with respect to the\n",
        "others. More specifically, we will refer to this type of list as an unordered list. We can consider\n",
        "the list as having a first item, a second item, a third item, and so on. We can also refer to the\n",
        "beginning of the list (the first item) or the end of the list (the last item). For simplicity we will\n",
        "assume that lists cannot contain duplicate items.\n",
        "\n",
        "\n",
        "For example, the collection of integers 54, 26, 93, 17, 77, and 31 might represent a simple unordered list of exam scores. Note that we have written them as comma-delimited values, a common way of showing the list structure. Of course, Python would show this list as [54, 26, 93, 17, 77, 31]."
      ]
    },
    {
      "cell_type": "markdown",
      "metadata": {
        "id": "284ngsFMCtwz"
      },
      "source": [
        "## 3.8 The Unordered List Abstract Data Type\n",
        "\n",
        "The structure of an unordered list, as described above, is a collection of items where each item\n",
        "holds a relative position with respect to the others. Some possible unordered list operations are given below\n",
        "\n",
        "- `List()` creates a new list that is empty. It needs no parameters and returns an empty list.\n",
        "- `add(item)` adds a new item to the list. It needs the item and returns nothing. Assume the\n",
        "item is not already in the list.\n",
        "- `remove(item)` removes the item from the list. It needs the item and modifies the list.\n",
        "Assume the item is present in the list.\n",
        "- `search(item)` searches for the item in the list. It needs the item and returns a boolean\n",
        "value.\n",
        "- `is_empty()` tests to see whether the list is empty. It needs no parameters and returns a\n",
        "boolean value.\n",
        "- `size()` returns the number of items in the list. It needs no parameters and returns an\n",
        "integer.\n",
        "- `append(item)` adds a new item to the end of the list making it the last item in the collection. It needs the item and returns nothing. Assume the item is not already in the\n",
        "list.\n",
        "- `index(item)` returns the position of item in the list. It needs the item and returns the index.\n",
        "Assume the item is in the list.\n",
        "- `insert(pos,item)` adds a new item to the list at position pos. It needs the item and returns\n",
        "nothing. Assume the item is not already in the list and there are enough existing items to\n",
        "have position pos.\n",
        "- `pop()` removes and returns the last item in the list. It needs nothing and returns an item.\n",
        "Assume the list has at least one item.\n",
        "- `pop(pos)` removes and returns the item at position pos. It needs the position and returns\n",
        "the item. Assume the item is in the list.\n",
        "\n"
      ]
    },
    {
      "cell_type": "markdown",
      "metadata": {
        "id": "oyinWsMiDx00"
      },
      "source": [
        "## 3.9 Implementing an Unordered List: Linked Lists\n",
        "In order to implement an unordered list, we will construct what is commonly known as a linked\n",
        "list. Recall that we need to be sure that we can maintain the relative positioning of the items.\n",
        "However, there is no requirement that we maintain that positioning in contiguous memory. For\n",
        "example, consider the collection of items shown in Figure 3.18. It appears that these values\n",
        "have been placed randomly. If we can maintain some explicit information in each item, namely the location of the next item (see Figure 3.19, then the relative position of each item can be\n",
        "expressed by simply following the link from one item to the next.\n",
        "\n",
        "It is important to note that the location of the first item of the list must be explicitly specified.\n",
        "Once we know where the first item is, the first item can tell us where the second is, and so on.\n",
        "The external reference is often referred to as the head of the list. Similarly, the last item needs\n",
        "to know that there is no next item"
      ]
    },
    {
      "cell_type": "markdown",
      "metadata": {
        "id": "tDRQDZBoEFly"
      },
      "source": [
        "### 3.9.1 The Node Class\n",
        "\n",
        "The basic building block for the linked list implementation is the `node`. Each node object must\n",
        "hold at least two pieces of information. First, the node must contain the list item itself. We will\n",
        "call this the data field of the node. In addition, each node must hold a reference to the next\n",
        "node. To construct a node, you need to supply the initial data value for the node. Evaluating the\n",
        "assignment statement below will yield a node object containing the value 93 (see Figure 3.20).\n",
        "You should note that we will typically represent a node object as shown in Figure 3.21. The\n",
        "Node class also includes the usual methods to access and modify the data and the next reference."
      ]
    },
    {
      "cell_type": "code",
      "execution_count": 1,
      "metadata": {
        "id": "H6pwJ5HABzCs"
      },
      "outputs": [],
      "source": [
        "class Node:\n",
        "  def __init__(self, init_data):\n",
        "    self.data = init_data\n",
        "    self.next = None\n",
        "  \n",
        "  def get_data(self):\n",
        "    return self.data\n",
        "  \n",
        "  def get_next(self):\n",
        "    return self.next\n",
        "  \n",
        "  def set_data(self, new_data):\n",
        "    self.data = newdata\n",
        "  \n",
        "  def set_next(self,new_next):\n",
        "    self.next = new_next"
      ]
    },
    {
      "cell_type": "code",
      "execution_count": 2,
      "metadata": {
        "colab": {
          "base_uri": "https://localhost:8080/"
        },
        "id": "ZGVoA3_YBo7S",
        "outputId": "a938fc12-95ec-4216-ae63-7ed439e1f279"
      },
      "outputs": [
        {
          "data": {
            "text/plain": [
              "93"
            ]
          },
          "execution_count": 2,
          "metadata": {},
          "output_type": "execute_result"
        }
      ],
      "source": [
        "temp = Node(93)\n",
        "temp.get_data()"
      ]
    },
    {
      "cell_type": "markdown",
      "metadata": {
        "id": "bHcQds1pGKZ5"
      },
      "source": [
        "The special Python reference value None will play an important role in the Node class and\n",
        "later in the linked list itself. A reference to None will denote the fact that there is no next\n",
        "node. Note in the constructor that a node is initially created with next set to None. Since this\n",
        "is sometimes referred to as “grounding the node,” we will use the standard ground symbol to\n",
        "denote a reference that is referring to None. It is always a good idea to explicitly assign None\n",
        "to your initial next reference values."
      ]
    },
    {
      "cell_type": "markdown",
      "metadata": {
        "id": "HwiL5JNqGQst"
      },
      "source": [
        "### 3.9.2 The Unordered List Class\n",
        "\n",
        "As we suggested above, the unordered list will be built from a collection of nodes, each linked\n",
        "to the next by explicit references. As long as we know where to find the first node (containing\n",
        "the first item), each item after that can be found by successively following the next links. With\n",
        "this in mind, the UnorderedList class must maintain a reference to the first node. The following\n",
        "code shows the constructor. Note that each list object will maintain a single reference to the\n",
        "head of the list."
      ]
    },
    {
      "cell_type": "code",
      "execution_count": 3,
      "metadata": {
        "id": "FOrnYN1tGPfS"
      },
      "outputs": [],
      "source": [
        "class UnorderedList:\n",
        "  def __init__(self):\n",
        "    self.head = None\n",
        "  "
      ]
    },
    {
      "cell_type": "markdown",
      "metadata": {
        "id": "SjHOFRiKGlMH"
      },
      "source": [
        "Initially when we construct a list, there are no items. The assignment statement"
      ]
    },
    {
      "cell_type": "code",
      "execution_count": 4,
      "metadata": {
        "id": "xrsXEyXGF9_W"
      },
      "outputs": [],
      "source": [
        "mylist = UnorderedList()"
      ]
    },
    {
      "cell_type": "markdown",
      "metadata": {
        "id": "mz4MwCLlHYDn"
      },
      "source": [
        "creates the linked list representation shown in Figure 3.22. As we discussed in the Node class,\n",
        "the special reference None will again be used to state that the head of the list does not refer\n",
        "to anything. Eventually, the example list given earlier will be represented by a linked list as\n",
        "shown in Figure 3.23. The head of the list refers to the first node which contains the first item\n",
        "of the list. In turn, that node holds a reference to the next node (the next item) and so on. It\n",
        "is very important to note that the list class itself does not contain any node objects. Instead it\n",
        "contains a single reference to only the first node in the linked structure.\n",
        "\n",
        "\n",
        "The is_empty method simply checks to see if the head of the list is a reference to None.\n",
        "The result of the boolean expression self.head==None will only be true if there are no nodes\n",
        "in the linked list. Since a new list is empty, the constructor and the check for empty must\n",
        "be consistent with one another. This shows the advantage to using the reference None to\n",
        "denote the “end” of the linked structure. In Python, None can be compared to any reference.\n",
        "Two references are equal if they both refer to the same object. We will use this often in our\n",
        "remaining methods"
      ]
    },
    {
      "cell_type": "code",
      "execution_count": 5,
      "metadata": {
        "id": "6Yanrl4XGt-S"
      },
      "outputs": [],
      "source": [
        "class UnorderedList:\n",
        "  def __init__(self):\n",
        "    self.head = None\n",
        "    \n",
        "  def is_empty(self):\n",
        "    return self.head == None"
      ]
    },
    {
      "cell_type": "markdown",
      "metadata": {
        "id": "RK2iyju7H225"
      },
      "source": [
        "So, how do we get items into our list? We need to implement the add method. However, before\n",
        "we can do that, we need to address the important question of where in the linked list to place\n",
        "the new item. Since this list is unordered, the specific location of the new item with respect to\n",
        "the other items already in the list is not important. The new item can go anywhere. With that\n",
        "in mind, it makes sense to place the new item in the easiest location possible."
      ]
    },
    {
      "cell_type": "code",
      "execution_count": 6,
      "metadata": {
        "id": "70A5Da-xH2MM"
      },
      "outputs": [],
      "source": [
        "class UnorderedList:\n",
        "  def __init__(self):\n",
        "    self.head = None\n",
        "\n",
        "  def is_empty(self):\n",
        "    return self.head == None\n",
        "  \n",
        "  def add(self, item):\n",
        "    temp = Node(item)\n",
        "    temp.set_next(self.head) # Next None\n",
        "    self.head = temp # First Node"
      ]
    },
    {
      "cell_type": "markdown",
      "metadata": {
        "id": "h02fLm3kIp7a"
      },
      "source": [
        "Recall that the linked list structure provides us with only one entry point, the head of the list.\n",
        "All of the other nodes can only be reached by accessing the first node and then following next\n",
        "links. This means that the easiest place to add the new node is right at the head, or beginning,\n",
        "of the list. In other words, we will make the new item the first item of the list and the existing\n",
        "items will need to be linked to this new first item so that they follow."
      ]
    },
    {
      "cell_type": "markdown",
      "metadata": {
        "id": "_6QrkrcTI05v"
      },
      "source": [
        "Note that since 31 is the first item added to the list, it will eventually be the last node on the\n",
        "linked list as every other item is added ahead of it. Also, since 54 is the last item added, it will\n",
        "become the data value in the first node of the linked list.\n",
        "\n",
        "\n",
        "The add method is shown below. Each item of the list must reside in a node object. Line 2\n",
        "creates a new node and places the item as its data. Now we must complete the process by linking\n",
        "the new node into the existing structure. This requires two steps as shown in Figure 3.24. Step\n",
        "1 (line 3) changes the next reference of the new node to refer to the old first node of the list.\n",
        "Now that the rest of the list has been properly attached to the new node, we can modify the\n",
        "head of the list to refer to the new node. The assignment statement in line 4 sets the head of the\n",
        "list.\n",
        "\n",
        "\n",
        "The order of the two steps described above is very important. What happens if the order of line\n",
        "3 and line 4 is reversed? If the modification of the head of the list happens first, the result can\n",
        "be seen in Figure 3.25. Since the head was the only external reference to the list nodes, all of\n",
        "the original nodes are lost and can no longer be accessed."
      ]
    },
    {
      "cell_type": "code",
      "execution_count": 13,
      "metadata": {
        "id": "v6LcSFobHoxD"
      },
      "outputs": [],
      "source": [
        "mylist = UnorderedList()\n",
        "mylist.add(10)\n",
        "mylist.add(30)"
      ]
    },
    {
      "cell_type": "code",
      "execution_count": 11,
      "metadata": {
        "colab": {
          "base_uri": "https://localhost:8080/"
        },
        "id": "ysKTccrYJl33",
        "outputId": "eb05a33f-735c-4ea3-c12b-4526b5de2e8b"
      },
      "outputs": [
        {
          "data": {
            "text/plain": [
              "False"
            ]
          },
          "execution_count": 11,
          "metadata": {},
          "output_type": "execute_result"
        }
      ],
      "source": [
        "mylist.is_empty()"
      ]
    },
    {
      "cell_type": "code",
      "execution_count": 9,
      "metadata": {
        "id": "8AGGzMB8Jr68"
      },
      "outputs": [],
      "source": [
        "class UnorderedList:\n",
        "  def __init__(self):\n",
        "    self.head = None\n",
        "\n",
        "  def is_empty(self):\n",
        "    return self.head == None\n",
        "  \n",
        "  def add(self, item):\n",
        "    temp = Node(item)\n",
        "    temp.set_next(self.head) # Next None\n",
        "    self.head = temp # First Node\n",
        "\n",
        "  def size(self):\n",
        "    current = self.head\n",
        "    count = 0\n",
        "    while current != None:\n",
        "      count = count + 1\n",
        "      current = current.get_next()\n",
        "    return count"
      ]
    },
    {
      "cell_type": "code",
      "execution_count": 14,
      "metadata": {
        "colab": {
          "base_uri": "https://localhost:8080/"
        },
        "id": "CYmkt_jPKG7l",
        "outputId": "fad7cd55-09b2-4d1a-8127-da9807222ed2"
      },
      "outputs": [
        {
          "data": {
            "text/plain": [
              "2"
            ]
          },
          "execution_count": 14,
          "metadata": {},
          "output_type": "execute_result"
        }
      ],
      "source": [
        "mylist.size()"
      ]
    },
    {
      "cell_type": "markdown",
      "metadata": {
        "id": "Sv9HHcmVK-lh"
      },
      "source": [
        "The code below shows the implementation for the search method. As in the size method, the\n",
        "traversal is initialized to start at the head of the list (line 2). We also use a boolean variable\n",
        "called found to remember whether we have located the item we are searching for. Since we\n",
        "have not found the item at the start of the traversal, found can be set to False (line 3). The\n",
        "iteration in line 4 takes into account both conditions discussed above. As long as there are\n",
        "more nodes to visit and we have not found the item we are looking for, we continue to check\n",
        "the next node. The question in line 5 asks whether the data item is present in the current node.\n",
        "If so, found can be set to True."
      ]
    },
    {
      "cell_type": "code",
      "execution_count": 19,
      "metadata": {
        "id": "8JKNmPlzKMv7"
      },
      "outputs": [],
      "source": [
        "class UnorderedList:\n",
        "  def __init__(self):\n",
        "    self.head = None\n",
        "\n",
        "  def is_empty(self):\n",
        "    return self.head == None\n",
        "  \n",
        "  def add(self, item):\n",
        "    temp = Node(item)\n",
        "    temp.set_next(self.head) # Next None\n",
        "    self.head = temp # First Node\n",
        "\n",
        "  def size(self):\n",
        "    current = self.head\n",
        "    count = 0\n",
        "    while current != None:\n",
        "      count = count + 1\n",
        "      current = current.get_next()\n",
        "    return count\n",
        "\n",
        "  def search(self,item):\n",
        "    current = self.head\n",
        "    found = False\n",
        "    while current != None and not found:\n",
        "      if current.get_data() == item:\n",
        "        found = True\n",
        "      else:\n",
        "        current = current.get_next()\n",
        "    return found"
      ]
    },
    {
      "cell_type": "code",
      "execution_count": 20,
      "metadata": {
        "id": "B1ATYS8JLZ5U"
      },
      "outputs": [],
      "source": [
        "mylist = UnorderedList()\n",
        "mylist.add(10)\n",
        "mylist.add(30)\n",
        "mylist.add(72)"
      ]
    },
    {
      "cell_type": "code",
      "execution_count": 21,
      "metadata": {
        "colab": {
          "base_uri": "https://localhost:8080/"
        },
        "id": "_LOtSzVVLfYH",
        "outputId": "20bc3c5e-30dc-4110-9f89-450bd779f7a0"
      },
      "outputs": [
        {
          "data": {
            "text/plain": [
              "False"
            ]
          },
          "execution_count": 21,
          "metadata": {},
          "output_type": "execute_result"
        }
      ],
      "source": [
        "mylist.search(18)"
      ]
    },
    {
      "cell_type": "markdown",
      "metadata": {
        "id": "Sn019DzfLwqf"
      },
      "source": [
        "Since 18 is in the list, the traversal process needs to move only to the node containing 18. At that point, the variable found is set to True and the while condition will fail, leading to the return value seen above. This process can be seen in Figure 3.27\n",
        "\n",
        "he remove method requires two logical steps. First, we need to traverse the list looking for the item we want to remove. Once we find the item (recall that we assume it is present), we must remove it. The first step is very similar to search. Starting with an external reference set to the head of the list, we traverse the links until we discover the item we are looking for. Since we assume that item is present, we know that the iteration will stop before current gets to None. This means that we can simply use the boolean found in the condition. When found becomes True, current will be a reference to the node containing the item to be removed. But how do we remove it? One possibility would be to replace the value of the item with some marker that suggests that the item is no longer present. The problem with this approach is the number of nodes will no longer match the number of items. It would be much better to remove the item by removing the entire node.\n",
        "\n",
        "In order to remove the node containing the item, we need to modify the link in the previous node so that it refers to the node that comes after current. Unfortunately, there is no way to go backward in the linked list. Since current refers to the node ahead of the node where we would like to make the change, it is too late to make the necessary modification.\n",
        "\n",
        "The solution to this dilemma is to use two external references as we traverse down the linked list. current will behave just as it did before, marking the current location of the traverse. The new reference, which we will call previous, will always travel one node behind current. That way, when current stops at the node to be removed, previous will be referring to the proper place in the linked list for the modification.\n",
        "\n",
        "The code below shows the complete remove method. Lines 2–3 assign initial values to the two references. Note that current starts out at the list head as in the other traversal examples. previous, however, is assumed to always travel one node behind current. For this reason, previous starts out with a value of None since there is no node before the head (see Figure 3.28). The boolean variable found will again be used to control the iteration.\n",
        "\n",
        "In lines 6–7 we ask whether the item stored in the current node is the item we wish to\n",
        "remove. If so, found can be set to True. If we do not find the item, previous and current\n",
        "must both be moved one node ahead. Again, the order of these two statements is crucial.\n",
        "previous must first be moved one node ahead to the location of current. At that point,\n",
        "current can be moved. This process is often referred to as “inch-worming” as previous\n",
        "must catch up to current before current moves ahead. Figure 3.29 shows the movement of\n",
        "previous and current as they progress down the list looking for the node containing the value 17"
      ]
    },
    {
      "cell_type": "code",
      "execution_count": 22,
      "metadata": {
        "id": "pU897yDmLiI7"
      },
      "outputs": [],
      "source": [
        "class UnorderedList:\n",
        "  def __init__(self):\n",
        "    self.head = None\n",
        "\n",
        "  def is_empty(self):\n",
        "    return self.head == None\n",
        "  \n",
        "  def add(self, item):\n",
        "    temp = Node(item)\n",
        "    temp.set_next(self.head) # Next None\n",
        "    self.head = temp # First Node\n",
        "\n",
        "  def size(self):\n",
        "    current = self.head\n",
        "    count = 0\n",
        "    while current != None:\n",
        "      count = count + 1\n",
        "      current = current.get_next()\n",
        "    return count\n",
        "\n",
        "  def search(self,item):\n",
        "    current = self.head\n",
        "    found = False\n",
        "    while current != None and not found:\n",
        "      if current.get_data() == item:\n",
        "        found = True\n",
        "      else:\n",
        "        current = current.get_next()\n",
        "    return found\n",
        "\n",
        "  def remove(self, item):\n",
        "    current = self.head\n",
        "    previous = None\n",
        "    found = False\n",
        "    while not found:\n",
        "      if current.get_data() == item:\n",
        "        found = True\n",
        "      else:\n",
        "        previous = current\n",
        "        current = current.get_next()\n",
        "        \n",
        "    if previous == None:\n",
        "      self.head = current.get_next()\n",
        "    else:\n",
        "      previous.set_next(current.get_next())"
      ]
    },
    {
      "cell_type": "code",
      "execution_count": 23,
      "metadata": {
        "id": "BYsDcEwpNX74"
      },
      "outputs": [],
      "source": [
        "mylist = UnorderedList()\n",
        "mylist.add(10)\n",
        "mylist.add(30)\n",
        "mylist.add(72)\n",
        "mylist.remove(10)"
      ]
    },
    {
      "cell_type": "code",
      "execution_count": 24,
      "metadata": {
        "colab": {
          "base_uri": "https://localhost:8080/"
        },
        "id": "dUxktJkoNc2U",
        "outputId": "37bf25f0-d977-4104-ad19-5074448b6f3c"
      },
      "outputs": [
        {
          "data": {
            "text/plain": [
              "2"
            ]
          },
          "execution_count": 24,
          "metadata": {},
          "output_type": "execute_result"
        }
      ],
      "source": [
        "mylist.size()"
      ]
    }
  ],
  "metadata": {
    "colab": {
      "authorship_tag": "ABX9TyP4bWM3eYaUCVKIO9BxMbR6",
      "include_colab_link": true,
      "name": "3.7 Lists.ipynb",
      "provenance": []
    },
    "kernelspec": {
      "display_name": "Python 3",
      "name": "python3"
    },
    "language_info": {
      "codemirror_mode": {
        "name": "ipython",
        "version": 3
      },
      "file_extension": ".py",
      "mimetype": "text/x-python",
      "name": "python",
      "nbconvert_exporter": "python",
      "pygments_lexer": "ipython3",
      "version": "3.9.7"
    }
  },
  "nbformat": 4,
  "nbformat_minor": 0
}
