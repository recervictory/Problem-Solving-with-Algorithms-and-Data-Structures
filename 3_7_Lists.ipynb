{
  "nbformat": 4,
  "nbformat_minor": 0,
  "metadata": {
    "colab": {
      "name": "3.7 Lists.ipynb",
      "provenance": [],
      "authorship_tag": "ABX9TyP4bWM3eYaUCVKIO9BxMbR6",
      "include_colab_link": true
    },
    "kernelspec": {
      "name": "python3",
      "display_name": "Python 3"
    },
    "language_info": {
      "name": "python"
    }
  },
  "cells": [
    {
      "cell_type": "markdown",
      "metadata": {
        "id": "view-in-github",
        "colab_type": "text"
      },
      "source": [
        "<a href=\"https://colab.research.google.com/github/recervictory/Problem-Solving-with-Algorithms-and-Data-Structures/blob/master/3_7_Lists.ipynb\" target=\"_parent\"><img src=\"https://colab.research.google.com/assets/colab-badge.svg\" alt=\"Open In Colab\"/></a>"
      ]
    },
    {
      "cell_type": "markdown",
      "metadata": {
        "id": "6U3j62mHBzoM"
      },
      "source": [
        "## 3.7 Lists\n",
        "\n",
        "Throughout the discussion of basic data structures, we have used Python lists to implement\n",
        "the abstract data types presented. The list is a powerful, yet simple, collection mechanism that\n",
        "provides the programmer with a wide variety of operations. However, not all programming\n",
        "languages include a list collection. In these cases, the notion of a list must be implemented by\n",
        "the programmer.\n",
        "\n",
        "\n",
        "A list is a collection of items where each item holds a relative position with respect to the\n",
        "others. More specifically, we will refer to this type of list as an unordered list. We can consider\n",
        "the list as having a first item, a second item, a third item, and so on. We can also refer to the\n",
        "beginning of the list (the first item) or the end of the list (the last item). For simplicity we will\n",
        "assume that lists cannot contain duplicate items.\n",
        "\n",
        "\n",
        "For example, the collection of integers 54, 26, 93, 17, 77, and 31 might represent a simple unordered list of exam scores. Note that we have written them as comma-delimited values, a common way of showing the list structure. Of course, Python would show this list as [54, 26, 93, 17, 77, 31]."
      ]
    },
    {
      "cell_type": "markdown",
      "metadata": {
        "id": "284ngsFMCtwz"
      },
      "source": [
        "## 3.8 The Unordered List Abstract Data Type\n",
        "\n",
        "The structure of an unordered list, as described above, is a collection of items where each item\n",
        "holds a relative position with respect to the others. Some possible unordered list operations are given below\n",
        "\n",
        "- `List()` creates a new list that is empty. It needs no parameters and returns an empty list.\n",
        "- `add(item)` adds a new item to the list. It needs the item and returns nothing. Assume the\n",
        "item is not already in the list.\n",
        "- `remove(item)` removes the item from the list. It needs the item and modifies the list.\n",
        "Assume the item is present in the list.\n",
        "- `search(item)` searches for the item in the list. It needs the item and returns a boolean\n",
        "value.\n",
        "- `is_empty()` tests to see whether the list is empty. It needs no parameters and returns a\n",
        "boolean value.\n",
        "- `size()` returns the number of items in the list. It needs no parameters and returns an\n",
        "integer.\n",
        "- `append(item)` adds a new item to the end of the list making it the last item in the collection. It needs the item and returns nothing. Assume the item is not already in the\n",
        "list.\n",
        "- `index(item)` returns the position of item in the list. It needs the item and returns the index.\n",
        "Assume the item is in the list.\n",
        "- `insert(pos,item)` adds a new item to the list at position pos. It needs the item and returns\n",
        "nothing. Assume the item is not already in the list and there are enough existing items to\n",
        "have position pos.\n",
        "- `pop()` removes and returns the last item in the list. It needs nothing and returns an item.\n",
        "Assume the list has at least one item.\n",
        "- `pop(pos)` removes and returns the item at position pos. It needs the position and returns\n",
        "the item. Assume the item is in the list.\n",
        "\n"
      ]
    },
    {
      "cell_type": "markdown",
      "metadata": {
        "id": "oyinWsMiDx00"
      },
      "source": [
        "## 3.9 Implementing an Unordered List: Linked Lists\n",
        "In order to implement an unordered list, we will construct what is commonly known as a linked\n",
        "list. Recall that we need to be sure that we can maintain the relative positioning of the items.\n",
        "However, there is no requirement that we maintain that positioning in contiguous memory. For\n",
        "example, consider the collection of items shown in Figure 3.18. It appears that these values\n",
        "have been placed randomly. If we can maintain some explicit information in each item, namely the location of the next item (see Figure 3.19, then the relative position of each item can be\n",
        "expressed by simply following the link from one item to the next.\n",
        "\n",
        "It is important to note that the location of the first item of the list must be explicitly specified.\n",
        "Once we know where the first item is, the first item can tell us where the second is, and so on.\n",
        "The external reference is often referred to as the head of the list. Similarly, the last item needs\n",
        "to know that there is no next item"
      ]
    },
    {
      "cell_type": "markdown",
      "metadata": {
        "id": "tDRQDZBoEFly"
      },
      "source": [
        "### 3.9.1 The Node Class\n",
        "\n",
        "The basic building block for the linked list implementation is the `node`. Each node object must\n",
        "hold at least two pieces of information. First, the node must contain the list item itself. We will\n",
        "call this the data field of the node. In addition, each node must hold a reference to the next\n",
        "node. To construct a node, you need to supply the initial data value for the node. Evaluating the\n",
        "assignment statement below will yield a node object containing the value 93 (see Figure 3.20).\n",
        "You should note that we will typically represent a node object as shown in Figure 3.21. The\n",
        "Node class also includes the usual methods to access and modify the data and the next reference."
      ]
    },
    {
      "cell_type": "code",
      "metadata": {
        "id": "H6pwJ5HABzCs"
      },
      "source": [
        "class Node:\n",
        "  def __init__(self, init_data):\n",
        "    self.data = init_data\n",
        "    self.next = None\n",
        "  \n",
        "  def get_data(self):\n",
        "    return self.data\n",
        "  \n",
        "  def get_next(self):\n",
        "    return self.next\n",
        "  \n",
        "  def set_data(self, new_data):\n",
        "    self.data = newdata\n",
        "  \n",
        "  def set_next(self,new_next):\n",
        "    self.next = new_next"
      ],
      "execution_count": 1,
      "outputs": []
    },
    {
      "cell_type": "code",
      "metadata": {
        "colab": {
          "base_uri": "https://localhost:8080/"
        },
        "id": "ZGVoA3_YBo7S",
        "outputId": "a938fc12-95ec-4216-ae63-7ed439e1f279"
      },
      "source": [
        "temp = Node(93)\n",
        "temp.get_data()"
      ],
      "execution_count": 2,
      "outputs": [
        {
          "output_type": "execute_result",
          "data": {
            "text/plain": [
              "93"
            ]
          },
          "metadata": {},
          "execution_count": 2
        }
      ]
    },
    {
      "cell_type": "markdown",
      "metadata": {
        "id": "bHcQds1pGKZ5"
      },
      "source": [
        "The special Python reference value None will play an important role in the Node class and\n",
        "later in the linked list itself. A reference to None will denote the fact that there is no next\n",
        "node. Note in the constructor that a node is initially created with next set to None. Since this\n",
        "is sometimes referred to as “grounding the node,” we will use the standard ground symbol to\n",
        "denote a reference that is referring to None. It is always a good idea to explicitly assign None\n",
        "to your initial next reference values."
      ]
    },
    {
      "cell_type": "markdown",
      "metadata": {
        "id": "HwiL5JNqGQst"
      },
      "source": [
        "### 3.9.2 The Unordered List Class\n",
        "\n",
        "As we suggested above, the unordered list will be built from a collection of nodes, each linked\n",
        "to the next by explicit references. As long as we know where to find the first node (containing\n",
        "the first item), each item after that can be found by successively following the next links. With\n",
        "this in mind, the UnorderedList class must maintain a reference to the first node. The following\n",
        "code shows the constructor. Note that each list object will maintain a single reference to the\n",
        "head of the list."
      ]
    },
    {
      "cell_type": "code",
      "metadata": {
        "id": "FOrnYN1tGPfS"
      },
      "source": [
        "class UnorderedList:\n",
        "  def __init__(self):\n",
        "    self.head = None\n",
        "  "
      ],
      "execution_count": 3,
      "outputs": []
    },
    {
      "cell_type": "markdown",
      "metadata": {
        "id": "SjHOFRiKGlMH"
      },
      "source": [
        "Initially when we construct a list, there are no items. The assignment statement"
      ]
    },
    {
      "cell_type": "code",
      "metadata": {
        "id": "xrsXEyXGF9_W"
      },
      "source": [
        "mylist = UnorderedList()"
      ],
      "execution_count": 4,
      "outputs": []
    },
    {
      "cell_type": "markdown",
      "metadata": {
        "id": "mz4MwCLlHYDn"
      },
      "source": [
        "creates the linked list representation shown in Figure 3.22. As we discussed in the Node class,\n",
        "the special reference None will again be used to state that the head of the list does not refer\n",
        "to anything. Eventually, the example list given earlier will be represented by a linked list as\n",
        "shown in Figure 3.23. The head of the list refers to the first node which contains the first item\n",
        "of the list. In turn, that node holds a reference to the next node (the next item) and so on. It\n",
        "is very important to note that the list class itself does not contain any node objects. Instead it\n",
        "contains a single reference to only the first node in the linked structure.\n",
        "\n",
        "\n",
        "The is_empty method simply checks to see if the head of the list is a reference to None.\n",
        "The result of the boolean expression self.head==None will only be true if there are no nodes\n",
        "in the linked list. Since a new list is empty, the constructor and the check for empty must\n",
        "be consistent with one another. This shows the advantage to using the reference None to\n",
        "denote the “end” of the linked structure. In Python, None can be compared to any reference.\n",
        "Two references are equal if they both refer to the same object. We will use this often in our\n",
        "remaining methods"
      ]
    },
    {
      "cell_type": "code",
      "metadata": {
        "id": "6Yanrl4XGt-S"
      },
      "source": [
        "class UnorderedList:\n",
        "  def __init__(self):\n",
        "    self.head = None\n",
        "    \n",
        "  def is_empty(self):\n",
        "    return self.head == None"
      ],
      "execution_count": 5,
      "outputs": []
    },
    {
      "cell_type": "markdown",
      "metadata": {
        "id": "RK2iyju7H225"
      },
      "source": [
        "So, how do we get items into our list? We need to implement the add method. However, before\n",
        "we can do that, we need to address the important question of where in the linked list to place\n",
        "the new item. Since this list is unordered, the specific location of the new item with respect to\n",
        "the other items already in the list is not important. The new item can go anywhere. With that\n",
        "in mind, it makes sense to place the new item in the easiest location possible."
      ]
    },
    {
      "cell_type": "code",
      "metadata": {
        "id": "70A5Da-xH2MM"
      },
      "source": [
        "class UnorderedList:\n",
        "  def __init__(self):\n",
        "    self.head = None\n",
        "\n",
        "  def is_empty(self):\n",
        "    return self.head == None\n",
        "  \n",
        "  def add(self, item):\n",
        "    temp = Node(item)\n",
        "    temp.set_next(self.head) # Next None\n",
        "    self.head = temp # First Node"
      ],
      "execution_count": 6,
      "outputs": []
    },
    {
      "cell_type": "markdown",
      "metadata": {
        "id": "h02fLm3kIp7a"
      },
      "source": [
        "Recall that the linked list structure provides us with only one entry point, the head of the list.\n",
        "All of the other nodes can only be reached by accessing the first node and then following next\n",
        "links. This means that the easiest place to add the new node is right at the head, or beginning,\n",
        "of the list. In other words, we will make the new item the first item of the list and the existing\n",
        "items will need to be linked to this new first item so that they follow."
      ]
    },
    {
      "cell_type": "markdown",
      "metadata": {
        "id": "_6QrkrcTI05v"
      },
      "source": [
        "Note that since 31 is the first item added to the list, it will eventually be the last node on the\n",
        "linked list as every other item is added ahead of it. Also, since 54 is the last item added, it will\n",
        "become the data value in the first node of the linked list.\n",
        "\n",
        "\n",
        "The add method is shown below. Each item of the list must reside in a node object. Line 2\n",
        "creates a new node and places the item as its data. Now we must complete the process by linking\n",
        "the new node into the existing structure. This requires two steps as shown in Figure 3.24. Step\n",
        "1 (line 3) changes the next reference of the new node to refer to the old first node of the list.\n",
        "Now that the rest of the list has been properly attached to the new node, we can modify the\n",
        "head of the list to refer to the new node. The assignment statement in line 4 sets the head of the\n",
        "list.\n",
        "\n",
        "\n",
        "The order of the two steps described above is very important. What happens if the order of line\n",
        "3 and line 4 is reversed? If the modification of the head of the list happens first, the result can\n",
        "be seen in Figure 3.25. Since the head was the only external reference to the list nodes, all of\n",
        "the original nodes are lost and can no longer be accessed."
      ]
    },
    {
      "cell_type": "code",
      "metadata": {
        "id": "v6LcSFobHoxD"
      },
      "source": [
        "mylist = UnorderedList()\n",
        "mylist.add(10)\n",
        "mylist.add(30)"
      ],
      "execution_count": 13,
      "outputs": []
    },
    {
      "cell_type": "code",
      "metadata": {
        "colab": {
          "base_uri": "https://localhost:8080/"
        },
        "id": "ysKTccrYJl33",
        "outputId": "eb05a33f-735c-4ea3-c12b-4526b5de2e8b"
      },
      "source": [
        "mylist.is_empty()"
      ],
      "execution_count": 11,
      "outputs": [
        {
          "output_type": "execute_result",
          "data": {
            "text/plain": [
              "False"
            ]
          },
          "metadata": {},
          "execution_count": 11
        }
      ]
    },
    {
      "cell_type": "code",
      "metadata": {
        "id": "8AGGzMB8Jr68"
      },
      "source": [
        "class UnorderedList:\n",
        "  def __init__(self):\n",
        "    self.head = None\n",
        "\n",
        "  def is_empty(self):\n",
        "    return self.head == None\n",
        "  \n",
        "  def add(self, item):\n",
        "    temp = Node(item)\n",
        "    temp.set_next(self.head) # Next None\n",
        "    self.head = temp # First Node\n",
        "\n",
        "  def size(self):\n",
        "    current = self.head\n",
        "    count = 0\n",
        "    while current != None:\n",
        "      count = count + 1\n",
        "      current = current.get_next()\n",
        "    return count"
      ],
      "execution_count": 9,
      "outputs": []
    },
    {
      "cell_type": "code",
      "metadata": {
        "colab": {
          "base_uri": "https://localhost:8080/"
        },
        "id": "CYmkt_jPKG7l",
        "outputId": "fad7cd55-09b2-4d1a-8127-da9807222ed2"
      },
      "source": [
        "mylist.size()"
      ],
      "execution_count": 14,
      "outputs": [
        {
          "output_type": "execute_result",
          "data": {
            "text/plain": [
              "2"
            ]
          },
          "metadata": {},
          "execution_count": 14
        }
      ]
    },
    {
      "cell_type": "markdown",
      "metadata": {
        "id": "Sv9HHcmVK-lh"
      },
      "source": [
        "The code below shows the implementation for the search method. As in the size method, the\n",
        "traversal is initialized to start at the head of the list (line 2). We also use a boolean variable\n",
        "called found to remember whether we have located the item we are searching for. Since we\n",
        "have not found the item at the start of the traversal, found can be set to False (line 3). The\n",
        "iteration in line 4 takes into account both conditions discussed above. As long as there are\n",
        "more nodes to visit and we have not found the item we are looking for, we continue to check\n",
        "the next node. The question in line 5 asks whether the data item is present in the current node.\n",
        "If so, found can be set to True."
      ]
    },
    {
      "cell_type": "code",
      "metadata": {
        "id": "8JKNmPlzKMv7"
      },
      "source": [
        "class UnorderedList:\n",
        "  def __init__(self):\n",
        "    self.head = None\n",
        "\n",
        "  def is_empty(self):\n",
        "    return self.head == None\n",
        "  \n",
        "  def add(self, item):\n",
        "    temp = Node(item)\n",
        "    temp.set_next(self.head) # Next None\n",
        "    self.head = temp # First Node\n",
        "\n",
        "  def size(self):\n",
        "    current = self.head\n",
        "    count = 0\n",
        "    while current != None:\n",
        "      count = count + 1\n",
        "      current = current.get_next()\n",
        "    return count\n",
        "\n",
        "  def search(self,item):\n",
        "    current = self.head\n",
        "    found = False\n",
        "    while current != None and not found:\n",
        "      if current.get_data() == item:\n",
        "        found = True\n",
        "      else:\n",
        "        current = current.get_next()\n",
        "    return found"
      ],
      "execution_count": 19,
      "outputs": []
    },
    {
      "cell_type": "code",
      "metadata": {
        "id": "B1ATYS8JLZ5U"
      },
      "source": [
        "mylist = UnorderedList()\n",
        "mylist.add(10)\n",
        "mylist.add(30)\n",
        "mylist.add(72)"
      ],
      "execution_count": 20,
      "outputs": []
    },
    {
      "cell_type": "code",
      "metadata": {
        "colab": {
          "base_uri": "https://localhost:8080/"
        },
        "id": "_LOtSzVVLfYH",
        "outputId": "20bc3c5e-30dc-4110-9f89-450bd779f7a0"
      },
      "source": [
        "mylist.search(18)"
      ],
      "execution_count": 21,
      "outputs": [
        {
          "output_type": "execute_result",
          "data": {
            "text/plain": [
              "False"
            ]
          },
          "metadata": {},
          "execution_count": 21
        }
      ]
    },
    {
      "cell_type": "markdown",
      "metadata": {
        "id": "Sn019DzfLwqf"
      },
      "source": [
        "Since 18 is in the list, the traversal process needs to move only to the node containing 18. At that point, the variable found is set to True and the while condition will fail, leading to the return value seen above. This process can be seen in Figure 3.27\n",
        "\n",
        "he remove method requires two logical steps. First, we need to traverse the list looking for the item we want to remove. Once we find the item (recall that we assume it is present), we must remove it. The first step is very similar to search. Starting with an external reference set to the head of the list, we traverse the links until we discover the item we are looking for. Since we assume that item is present, we know that the iteration will stop before current gets to None. This means that we can simply use the boolean found in the condition. When found becomes True, current will be a reference to the node containing the item to be removed. But how do we remove it? One possibility would be to replace the value of the item with some marker that suggests that the item is no longer present. The problem with this approach is the number of nodes will no longer match the number of items. It would be much better to remove the item by removing the entire node.\n",
        "\n",
        "In order to remove the node containing the item, we need to modify the link in the previous node so that it refers to the node that comes after current. Unfortunately, there is no way to go backward in the linked list. Since current refers to the node ahead of the node where we would like to make the change, it is too late to make the necessary modification.\n",
        "\n",
        "The solution to this dilemma is to use two external references as we traverse down the linked list. current will behave just as it did before, marking the current location of the traverse. The new reference, which we will call previous, will always travel one node behind current. That way, when current stops at the node to be removed, previous will be referring to the proper place in the linked list for the modification.\n",
        "\n",
        "The code below shows the complete remove method. Lines 2–3 assign initial values to the two references. Note that current starts out at the list head as in the other traversal examples. previous, however, is assumed to always travel one node behind current. For this reason, previous starts out with a value of None since there is no node before the head (see Figure 3.28). The boolean variable found will again be used to control the iteration.\n",
        "\n",
        "In lines 6–7 we ask whether the item stored in the current node is the item we wish to\n",
        "remove. If so, found can be set to True. If we do not find the item, previous and current\n",
        "must both be moved one node ahead. Again, the order of these two statements is crucial.\n",
        "previous must first be moved one node ahead to the location of current. At that point,\n",
        "current can be moved. This process is often referred to as “inch-worming” as previous\n",
        "must catch up to current before current moves ahead. Figure 3.29 shows the movement of\n",
        "previous and current as they progress down the list looking for the node containing the value 17"
      ]
    },
    {
      "cell_type": "code",
      "metadata": {
        "id": "pU897yDmLiI7"
      },
      "source": [
        "class UnorderedList:\n",
        "  def __init__(self):\n",
        "    self.head = None\n",
        "\n",
        "  def is_empty(self):\n",
        "    return self.head == None\n",
        "  \n",
        "  def add(self, item):\n",
        "    temp = Node(item)\n",
        "    temp.set_next(self.head) # Next None\n",
        "    self.head = temp # First Node\n",
        "\n",
        "  def size(self):\n",
        "    current = self.head\n",
        "    count = 0\n",
        "    while current != None:\n",
        "      count = count + 1\n",
        "      current = current.get_next()\n",
        "    return count\n",
        "\n",
        "  def search(self,item):\n",
        "    current = self.head\n",
        "    found = False\n",
        "    while current != None and not found:\n",
        "      if current.get_data() == item:\n",
        "        found = True\n",
        "      else:\n",
        "        current = current.get_next()\n",
        "    return found\n",
        "\n",
        "  def remove(self, item):\n",
        "    current = self.head\n",
        "    previous = None\n",
        "    found = False\n",
        "    while not found:\n",
        "      if current.get_data() == item:\n",
        "        found = True\n",
        "      else:\n",
        "        previous = current\n",
        "        current = current.get_next()\n",
        "        \n",
        "    if previous == None:\n",
        "      self.head = current.get_next()\n",
        "    else:\n",
        "      previous.set_next(current.get_next())"
      ],
      "execution_count": 22,
      "outputs": []
    },
    {
      "cell_type": "code",
      "metadata": {
        "id": "BYsDcEwpNX74"
      },
      "source": [
        "mylist = UnorderedList()\n",
        "mylist.add(10)\n",
        "mylist.add(30)\n",
        "mylist.add(72)\n",
        "mylist.remove(10)"
      ],
      "execution_count": 23,
      "outputs": []
    },
    {
      "cell_type": "code",
      "metadata": {
        "colab": {
          "base_uri": "https://localhost:8080/"
        },
        "id": "dUxktJkoNc2U",
        "outputId": "37bf25f0-d977-4104-ad19-5074448b6f3c"
      },
      "source": [
        "mylist.size()"
      ],
      "execution_count": 24,
      "outputs": [
        {
          "output_type": "execute_result",
          "data": {
            "text/plain": [
              "2"
            ]
          },
          "metadata": {},
          "execution_count": 24
        }
      ]
    },
    {
      "cell_type": "code",
      "metadata": {
        "id": "h0LfjSrxNftw"
      },
      "source": [
        ""
      ],
      "execution_count": null,
      "outputs": []
    }
  ]
}