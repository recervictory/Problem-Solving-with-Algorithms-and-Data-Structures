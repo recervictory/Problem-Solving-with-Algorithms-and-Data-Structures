{
  "nbformat": 4,
  "nbformat_minor": 0,
  "metadata": {
    "orig_nbformat": 4,
    "language_info": {
      "name": "python",
      "version": "3.7.4",
      "mimetype": "text/x-python",
      "codemirror_mode": {
        "name": "ipython",
        "version": 3
      },
      "pygments_lexer": "ipython3",
      "nbconvert_exporter": "python",
      "file_extension": ".py"
    },
    "kernelspec": {
      "name": "python3",
      "display_name": "Python 3.7.4 64-bit ('base': conda)"
    },
    "interpreter": {
      "hash": "7dae6437c12b1d87f00e0e10a4bd22be66a3b8ec05fb1161d95372f28c39fa9e"
    },
    "colab": {
      "name": "01 Review of Basic Python.ipynb",
      "provenance": [],
      "include_colab_link": true
    }
  },
  "cells": [
    {
      "cell_type": "markdown",
      "metadata": {
        "id": "view-in-github",
        "colab_type": "text"
      },
      "source": [
        "<a href=\"https://colab.research.google.com/github/recervictory/Problem-Solving-with-Algorithms-and-Data-Structures/blob/master/01%20Review%20of%20Basic%20Python.ipynb\" target=\"_parent\"><img src=\"https://colab.research.google.com/assets/colab-badge.svg\" alt=\"Open In Colab\"/></a>"
      ]
    },
    {
      "cell_type": "markdown",
      "metadata": {
        "id": "H0t8X0aaBTJG"
      },
      "source": [
        "# Review of Basic Python"
      ]
    },
    {
      "cell_type": "markdown",
      "metadata": {
        "id": "J3YgBXjNBTJI"
      },
      "source": [
        "Python is a modern, easy-to-learn, object-oriented programming language. It has a powerful\n",
        "set of built-in data types and easy-to-use control constructs. Since Python is an interpreted\n",
        "language, it is most easily reviewed by simply looking at and describing interactive sessions.\n",
        "\n",
        "You should recall that the interpreter displays the familiar `>>>` prompt and then evaluates the\n",
        "Python construct that you provide. For example,\n"
      ]
    },
    {
      "cell_type": "code",
      "metadata": {
        "id": "aD286fMqBTJJ",
        "outputId": "6ccbe3ae-4c85-46a6-a099-069facbcd7e9"
      },
      "source": [
        "print(\"Algorithms and Data Structures\")"
      ],
      "execution_count": null,
      "outputs": [
        {
          "output_type": "stream",
          "text": [
            "Algorithms and Data Structures\n"
          ],
          "name": "stdout"
        }
      ]
    },
    {
      "cell_type": "markdown",
      "metadata": {
        "id": "2LUQDUVDBTJK"
      },
      "source": [
        "shows the prompt, the print function, the result, and the next prompt."
      ]
    },
    {
      "cell_type": "markdown",
      "metadata": {
        "id": "hDXSRgoHBTJK"
      },
      "source": [
        "## Getting Started with Data\n",
        "We stated above that Python supports the **object-oriented programming paradigm**. This means\n",
        "that Python considers data to be the focal point of the **problem-solving process**. In Python, as\n",
        "well as in any other object-oriented programming language, we define a **class** to be a description\n",
        "of what the data look like (**the state**) and what the data can do (**the behavior**). \n",
        "\n",
        "**Classes** are analogous to **abstract data types** because a user of a class only sees the state and behavior of\n",
        "a data item. Data items are called **objects** in the object-oriented paradigm. *An object is an instance of a class.*"
      ]
    },
    {
      "cell_type": "markdown",
      "metadata": {
        "id": "a2Wd2F4GBTJL"
      },
      "source": [
        "## Getting Started with Data\n",
        "We will begin our review by considering the atomic data types. Python has two main built-in\n",
        "numeric classes that implement the integer and floating point data types. These Python classes\n",
        "are called `int` and `float`.\n",
        "\n",
        "The standard **arithmetic operations**, `+`, `−`, `*`, `/`, and `**` (**exponentiation**), can be used with parentheses forcing the order of operations away from normal operator\n",
        "precedence. Other very useful operations are the remainder (modulo) operator, %, and **integer division**, `//`. Note that when two integers are divided, the result is a floating point. The **integer division** operator returns the **integer portion** of the **quotient** by** truncating any fractional part**.\n",
        "\n",
        "**Operation Name Operator Explanation**\n",
        "- less than `<` Less than operator\n",
        "- greater than `>` Greater than operator\n",
        "- less than or equal `<=` Less than or equal to operator\n",
        "- greater than or equal `>=` Greater than or equal to operator\n",
        "- equal `==` Equality operator\n",
        "- not equal `=!` Not equal operator\n",
        "- logical `and` and Both operands True for result to be True\n",
        "- logical `or` or Either operand True for result to be True\n",
        "- logical not not Negates the truth value: False becomes True, True becomes False"
      ]
    },
    {
      "cell_type": "code",
      "metadata": {
        "id": "VNC9wInPBTJL",
        "outputId": "911e4415-9f18-40c1-d044-19d5ed547e08"
      },
      "source": [
        "print(2+3*4) #14\n",
        "print((2+3)*4) #20\n",
        "print(2**10) #1024\n",
        "print(6/3) #2.0\n",
        "print(7/3) #2.33333333333\n",
        "print(7//3) #2\n",
        "print(7%3) #1\n",
        "print(3/6) #0.5\n",
        "print(3//6) #0\n",
        "print(3%6) #3\n",
        "print(2**100) # 1267650600228229401496703205376"
      ],
      "execution_count": null,
      "outputs": [
        {
          "output_type": "stream",
          "text": [
            "14\n",
            "20\n",
            "1024\n",
            "2.0\n",
            "2.3333333333333335\n",
            "2\n",
            "1\n",
            "0.5\n",
            "0\n",
            "3\n",
            "1267650600228229401496703205376\n"
          ],
          "name": "stdout"
        }
      ]
    },
    {
      "cell_type": "markdown",
      "metadata": {
        "id": "aFxh6cVgBTJM"
      },
      "source": [
        "The boolean data type, implemented as the Python `bool` class, will be quite useful for\n",
        "representing truth values. The possible state values for a boolean object are `True` and `False`\n",
        "with the standard boolean operators, `and`, `or`, and `not`."
      ]
    },
    {
      "cell_type": "code",
      "metadata": {
        "id": "x3QERefhBTJM",
        "outputId": "6796f6eb-51de-4d73-803b-4ba1c20094f3"
      },
      "source": [
        "print(True)\n",
        "print(False)\n",
        "print(True or False)\n",
        "print(True and True)\n",
        "print(not (False and True))"
      ],
      "execution_count": null,
      "outputs": [
        {
          "output_type": "stream",
          "text": [
            "True\n",
            "False\n",
            "True\n",
            "True\n",
            "True\n"
          ],
          "name": "stdout"
        }
      ]
    },
    {
      "cell_type": "markdown",
      "metadata": {
        "id": "8u6gSTdvBTJN"
      },
      "source": [
        "Boolean data objects are also used as results for comparison operators such as equality (`==`)\n",
        "and greater than (`>`). In addition, relational operators and logical operators can be combined\n",
        "together to form complex logical questions."
      ]
    },
    {
      "cell_type": "code",
      "metadata": {
        "id": "zdwIhE7hBTJN",
        "outputId": "a73fdcf0-5c06-4c8a-a73f-a59a40c98df6"
      },
      "source": [
        "print(5 == 10)\n",
        "print(10 > 5)"
      ],
      "execution_count": null,
      "outputs": [
        {
          "output_type": "stream",
          "text": [
            "False\n",
            "True\n"
          ],
          "name": "stdout"
        }
      ]
    },
    {
      "cell_type": "markdown",
      "metadata": {
        "id": "zaACL2vaBTJN"
      },
      "source": [
        "Identifiers are used in programming languages as names. In Python, identifiers start with a\n",
        "**letter** or **an underscore** (`_`), are **case sensitive**, and can be of any length. Remember that it is\n",
        "always a good idea to use names that convey meaning so that your program code is easier to\n",
        "read and understand.\n",
        "A Python variable is created when a name is used for the first time on the left-hand side of\n",
        "an assignment statement. Assignment statements provide a way to associate a name with a\n",
        "value. The variable will hold a reference to a piece of data and not the data itself. Consider the\n",
        "following session:"
      ]
    },
    {
      "cell_type": "code",
      "metadata": {
        "id": "1-xWzW3-BTJO",
        "outputId": "bec3ac7e-9657-4efc-e521-4d5956966ebe"
      },
      "source": [
        "the_sum = 0\n",
        "the_sum"
      ],
      "execution_count": null,
      "outputs": [
        {
          "output_type": "execute_result",
          "data": {
            "text/plain": [
              "0"
            ]
          },
          "metadata": {
            "tags": []
          },
          "execution_count": 6
        }
      ]
    },
    {
      "cell_type": "code",
      "metadata": {
        "id": "FSe3WaHnBTJO",
        "outputId": "700abc86-1890-4a8a-927c-60c167eed10c"
      },
      "source": [
        "the_sum = the_sum + 1\n",
        "the_sum "
      ],
      "execution_count": null,
      "outputs": [
        {
          "output_type": "execute_result",
          "data": {
            "text/plain": [
              "1"
            ]
          },
          "metadata": {
            "tags": []
          },
          "execution_count": 7
        }
      ]
    },
    {
      "cell_type": "code",
      "metadata": {
        "id": "bh_tVe4zBTJO",
        "outputId": "80e816e0-0e48-4931-f319-c5d09739fd98"
      },
      "source": [
        "the_sum = True\n",
        "the_sum"
      ],
      "execution_count": null,
      "outputs": [
        {
          "output_type": "execute_result",
          "data": {
            "text/plain": [
              "True"
            ]
          },
          "metadata": {
            "tags": []
          },
          "execution_count": 8
        }
      ]
    },
    {
      "cell_type": "markdown",
      "metadata": {
        "id": "ATeMfjr-BTJP"
      },
      "source": [
        "**Operation Name Operator Explanation**\n",
        "- indexing `[ ]` Access an element of a sequence\n",
        "- concatenation `+` Combine sequences together\n",
        "- repetition `*` Concatenate a repeated number of times\n",
        "- membership `in` Ask whether an item is in a sequence\n",
        "- length `len` Ask the number of items in the sequence\n",
        "- slicing [ `:` ] Extract a part of a sequence"
      ]
    },
    {
      "cell_type": "code",
      "metadata": {
        "id": "NeavTT08BTJP",
        "outputId": "9aab6576-7efc-4b77-8236-2c07ebe6e253"
      },
      "source": [
        "print([1,3,True,6.5])"
      ],
      "execution_count": null,
      "outputs": [
        {
          "output_type": "stream",
          "text": [
            "[1, 3, True, 6.5]\n"
          ],
          "name": "stdout"
        }
      ]
    },
    {
      "cell_type": "code",
      "metadata": {
        "id": "KX9f8ZL9BTJP",
        "outputId": "23170229-e42f-49a5-8cf0-d07284ab01b7"
      },
      "source": [
        "my_list = [1,3,True,6.5]\n",
        "my_list"
      ],
      "execution_count": null,
      "outputs": [
        {
          "output_type": "execute_result",
          "data": {
            "text/plain": [
              "[1, 3, True, 6.5]"
            ]
          },
          "metadata": {
            "tags": []
          },
          "execution_count": 2
        }
      ]
    },
    {
      "cell_type": "code",
      "metadata": {
        "id": "ROiqRvnEBTJQ"
      },
      "source": [
        "# Ask whether an item is in a sequence\n",
        "3 in  my_list"
      ],
      "execution_count": null,
      "outputs": []
    },
    {
      "cell_type": "code",
      "metadata": {
        "id": "58HHkhU0BTJQ",
        "outputId": "98f2693e-50bd-4fba-ae45-36f8d53c98a0"
      },
      "source": [
        "my_list + [False]"
      ],
      "execution_count": null,
      "outputs": [
        {
          "output_type": "execute_result",
          "data": {
            "text/plain": [
              "[1, 3, True, 6.5, False]"
            ]
          },
          "metadata": {
            "tags": []
          },
          "execution_count": 3
        }
      ]
    },
    {
      "cell_type": "code",
      "metadata": {
        "id": "yN1juOOsBTJR",
        "outputId": "1d63f4f8-a21f-4553-a9f8-6c697546ce9c"
      },
      "source": [
        "my_list * 2"
      ],
      "execution_count": null,
      "outputs": [
        {
          "output_type": "execute_result",
          "data": {
            "text/plain": [
              "[1, 3, True, 6.5, 1, 3, True, 6.5]"
            ]
          },
          "metadata": {
            "tags": []
          },
          "execution_count": 4
        }
      ]
    },
    {
      "cell_type": "code",
      "metadata": {
        "id": "vPJomGWtBTJR",
        "outputId": "db95cc56-35d4-4d93-cbf9-89450246281b"
      },
      "source": [
        "my_list = [0] * 6\n",
        "my_list"
      ],
      "execution_count": null,
      "outputs": [
        {
          "output_type": "execute_result",
          "data": {
            "text/plain": [
              "[0, 0, 0, 0, 0, 0]"
            ]
          },
          "metadata": {
            "tags": []
          },
          "execution_count": 5
        }
      ]
    },
    {
      "cell_type": "markdown",
      "metadata": {
        "id": "IxhzqdsgBTJR"
      },
      "source": [
        "### Important Methods used in list class\n",
        "Method      Name                    Use Explanation\n",
        "- append     `a_list.append(item)` Adds a new item to the end of a list\n",
        "- insert     `a_list.insert(i,item)` Inserts an item at the 𝑖th position in a list\n",
        "- pop        `a_list.pop()` Removes and returns the last item in a list\n",
        "- pop        `a_list.pop(i)` Removes and returns the 𝑖th item in a list\n",
        "- sort       `a_list.sort()` Modifies a list to be sorted\n",
        "- reverse    `a_list.reverse()` Modifies a list to be in reverse order\n",
        "- del        `del a_list[i]` Deletes the item in the 𝑖th position\n",
        "- index      `a_list.index(item) `Returns the index of the first occurrence of item\n",
        "- count      `a_list.count(item)` Returns the number of occurrences of item\n",
        "- remove     `a_list.remove(item)` Removes the first occurrence of item"
      ]
    },
    {
      "cell_type": "code",
      "metadata": {
        "id": "1JwOy3izBTJS",
        "outputId": "e227c540-c0e7-4160-d1ac-b62bcc3823d9"
      },
      "source": [
        "my_list = [1024, 3, True, 6.5]\n",
        "my_list.append(False)\n",
        "print(my_list)\n",
        "\n",
        "my_list.insert(2,4.5)\n",
        "print(my_list)\n",
        "\n",
        "print(my_list.pop())\n",
        "print(my_list)\n",
        "\n",
        "print(my_list.pop(1))\n",
        "print(my_list)\n",
        "\n",
        "my_list.pop(2)\n",
        "print(my_list)\n",
        "\n",
        "my_list.sort() # All data type in the list should be in same type\n",
        "print(my_list)\n",
        "\n",
        "my_list.reverse()\n",
        "print(my_list)\n",
        "\n",
        "print(my_list.count(6.5))\n",
        "\n",
        "print(my_list.index(4.5))\n",
        "\n",
        "my_list.remove(6.5)\n",
        "print(my_list)\n",
        "\n",
        "del my_list[0]\n",
        "print(my_list)"
      ],
      "execution_count": null,
      "outputs": [
        {
          "output_type": "stream",
          "text": [
            "[1024, 3, True, 6.5, False]\n",
            "[1024, 3, 4.5, True, 6.5, False]\n",
            "False\n",
            "[1024, 3, 4.5, True, 6.5]\n",
            "3\n",
            "[1024, 4.5, True, 6.5]\n",
            "[1024, 4.5, 6.5]\n",
            "[4.5, 6.5, 1024]\n",
            "[1024, 6.5, 4.5]\n",
            "1\n",
            "2\n",
            "[1024, 4.5]\n",
            "[4.5]\n"
          ],
          "name": "stdout"
        }
      ]
    },
    {
      "cell_type": "markdown",
      "metadata": {
        "id": "1xUm5FYXBTJS"
      },
      "source": [
        "In this fragment we are asking the integer object 54 to execute its add method (called `__add__`\n",
        "in Python) and passing it 21 as the value to add. The result is the sum, 75. Of course, we usually\n",
        "write this as 54 + 21. We will say much more about these methods later in this section."
      ]
    },
    {
      "cell_type": "code",
      "metadata": {
        "id": "RKpMm7aCBTJS",
        "outputId": "1265d1d0-4f32-4649-df14-0fdb78dacca9"
      },
      "source": [
        "(45).__add__(50)"
      ],
      "execution_count": null,
      "outputs": [
        {
          "output_type": "execute_result",
          "data": {
            "text/plain": [
              "95"
            ]
          },
          "metadata": {
            "tags": []
          },
          "execution_count": 8
        }
      ]
    },
    {
      "cell_type": "markdown",
      "metadata": {
        "id": "tXeKhfWyBTJT"
      },
      "source": [
        "One common Python function that is often discussed in conjunction with lists is the `range`\n",
        "function. range produces a range object that represents a sequence of values. By using the\n",
        "`list` function, it is possible to see the value of the range object as a list. This is illustrated\n",
        "below."
      ]
    },
    {
      "cell_type": "code",
      "metadata": {
        "id": "8ZRPAKhGBTJT",
        "outputId": "ef705018-e686-4f1d-b01a-d0ccb82a6838"
      },
      "source": [
        "range(10)"
      ],
      "execution_count": null,
      "outputs": [
        {
          "output_type": "execute_result",
          "data": {
            "text/plain": [
              "range(0, 10)"
            ]
          },
          "metadata": {
            "tags": []
          },
          "execution_count": 9
        }
      ]
    },
    {
      "cell_type": "code",
      "metadata": {
        "id": "JXShicdlBTJT",
        "outputId": "61ac639d-5ed2-4ccd-f399-472f42ebe34f"
      },
      "source": [
        "list(range(10))"
      ],
      "execution_count": null,
      "outputs": [
        {
          "output_type": "execute_result",
          "data": {
            "text/plain": [
              "[0, 1, 2, 3, 4, 5, 6, 7, 8, 9]"
            ]
          },
          "metadata": {
            "tags": []
          },
          "execution_count": 10
        }
      ]
    },
    {
      "cell_type": "code",
      "metadata": {
        "id": "UGkb73DhBTJT",
        "outputId": "2cad3765-79f7-4e46-ee41-87eadb385740"
      },
      "source": [
        "list(range(5,10))"
      ],
      "execution_count": null,
      "outputs": [
        {
          "output_type": "execute_result",
          "data": {
            "text/plain": [
              "[5, 6, 7, 8, 9]"
            ]
          },
          "metadata": {
            "tags": []
          },
          "execution_count": 11
        }
      ]
    },
    {
      "cell_type": "code",
      "metadata": {
        "id": "wwQhFhqxBTJT",
        "outputId": "310468bb-af4b-4d4a-9c03-8a543db1e51a"
      },
      "source": [
        "list(range(5,10,2))"
      ],
      "execution_count": null,
      "outputs": [
        {
          "output_type": "execute_result",
          "data": {
            "text/plain": [
              "[5, 7, 9]"
            ]
          },
          "metadata": {
            "tags": []
          },
          "execution_count": 12
        }
      ]
    },
    {
      "cell_type": "code",
      "metadata": {
        "id": "xvl1D2bgBTJU",
        "outputId": "35336a9d-ccbb-4fc3-ef77-b6771da70995"
      },
      "source": [
        "list(range(10,1,-1))"
      ],
      "execution_count": null,
      "outputs": [
        {
          "output_type": "execute_result",
          "data": {
            "text/plain": [
              "[10, 9, 8, 7, 6, 5, 4, 3, 2]"
            ]
          },
          "metadata": {
            "tags": []
          },
          "execution_count": 13
        }
      ]
    },
    {
      "cell_type": "markdown",
      "metadata": {
        "id": "f-6tk5JTBaoT"
      },
      "source": [
        "**Strings** are sequential collections of zero or more letters, numbers and other symbols. We call\n",
        "these letters, numbers and other symbols **characters**. Literal string values are differentiated\n",
        "from identifiers by using quotation marks (either single or double)"
      ]
    },
    {
      "cell_type": "code",
      "metadata": {
        "colab": {
          "base_uri": "https://localhost:8080/",
          "height": 35
        },
        "id": "cOLDlKGSBTJU",
        "outputId": "8ab0786b-1efc-4df5-f07f-9fb99b4073f0"
      },
      "source": [
        "\"David\""
      ],
      "execution_count": 1,
      "outputs": [
        {
          "output_type": "execute_result",
          "data": {
            "application/vnd.google.colaboratory.intrinsic+json": {
              "type": "string"
            },
            "text/plain": [
              "'David'"
            ]
          },
          "metadata": {
            "tags": []
          },
          "execution_count": 1
        }
      ]
    },
    {
      "cell_type": "code",
      "metadata": {
        "colab": {
          "base_uri": "https://localhost:8080/",
          "height": 35
        },
        "id": "18R5iweaBzMS",
        "outputId": "83a8ed67-18bf-454f-982e-3d0dbeee9bb4"
      },
      "source": [
        "my_name = \"David\"\n",
        "my_name[3]"
      ],
      "execution_count": 2,
      "outputs": [
        {
          "output_type": "execute_result",
          "data": {
            "application/vnd.google.colaboratory.intrinsic+json": {
              "type": "string"
            },
            "text/plain": [
              "'i'"
            ]
          },
          "metadata": {
            "tags": []
          },
          "execution_count": 2
        }
      ]
    },
    {
      "cell_type": "markdown",
      "metadata": {
        "id": "WAwj6BUZEFAP"
      },
      "source": [
        "Method Name Use Explanation\n",
        "- center a_string.center(w) Returns a string centered in a field of size 𝑤\n",
        "- count a_string.count(item) Returns the number of occurrences of item\n",
        "in the string\n",
        "- ljust a_string.ljust(w) Returns a string left-justified in a field of size\n",
        "𝑤\n",
        "- lower a_string.lower() Returns a string in all lowercase\n",
        "- rjust a_string.rjust(w) Returns a string right-justified in a field of\n",
        "size 𝑤\n",
        "- find a_string.find(item) Returns the index of the first occurrence of\n",
        "item\n",
        "- split a_string.split(s_char) Splits a string into substrings at s_"
      ]
    },
    {
      "cell_type": "code",
      "metadata": {
        "id": "V25s1VlkB4mT"
      },
      "source": [
        ""
      ],
      "execution_count": null,
      "outputs": []
    }
  ]
}